{
  "nbformat": 4,
  "nbformat_minor": 0,
  "metadata": {
    "colab": {
      "name": "Untitled3.ipynb",
      "provenance": [],
      "authorship_tag": "ABX9TyMnDaj6dkUmS+fkX6Y+OvY9",
      "include_colab_link": true
    },
    "kernelspec": {
      "name": "python3",
      "display_name": "Python 3"
    },
    "language_info": {
      "name": "python"
    }
  },
  "cells": [
    {
      "cell_type": "markdown",
      "metadata": {
        "id": "view-in-github",
        "colab_type": "text"
      },
      "source": [
        "<a href=\"https://colab.research.google.com/github/syedmahmed2424/CSV-files-and-Pandas/blob/main/Untitled3.ipynb\" target=\"_parent\"><img src=\"https://colab.research.google.com/assets/colab-badge.svg\" alt=\"Open In Colab\"/></a>"
      ]
    },
    {
      "cell_type": "code",
      "execution_count": 3,
      "metadata": {
        "colab": {
          "base_uri": "https://localhost:8080/"
        },
        "id": "ikGLEnNDGd1r",
        "outputId": "e25eea47-43b1-4d1c-af0d-bf4a6812acc4"
      },
      "outputs": [
        {
          "output_type": "stream",
          "name": "stdout",
          "text": [
            "RangeIndex(start=0, stop=285, step=1)\n",
            "Index(['Province/State', 'Country/Region', 'Lat', 'Long', '1/22/20', '1/23/20',\n",
            "       '1/24/20', '1/25/20', '1/26/20', '1/27/20',\n",
            "       ...\n",
            "       '5/22/22', '5/23/22', '5/24/22', '5/25/22', '5/26/22', '5/27/22',\n",
            "       '5/28/22', '5/29/22', '5/30/22', '5/31/22'],\n",
            "      dtype='object', length=865)\n"
          ]
        }
      ],
      "source": [
        "import pandas as pd\n",
        "data=pd.read_csv(\"/content/time_series_covid19_confirmed_global (1).csv\")\n",
        "print(data.index)   #index of the file\n",
        "print(data.columns)"
      ]
    },
    {
      "cell_type": "markdown",
      "source": [
        "Subsetting:"
      ],
      "metadata": {
        "id": "nmA5HvAOKaHc"
      }
    },
    {
      "cell_type": "code",
      "source": [
        "#access the specific column\n",
        "column_1=data['Lat']\n",
        "print(column_1)"
      ],
      "metadata": {
        "colab": {
          "base_uri": "https://localhost:8080/"
        },
        "id": "UjXmtOupG9me",
        "outputId": "721bcf8b-c6e9-4f56-fd5a-5c4e887047ca"
      },
      "execution_count": 4,
      "outputs": [
        {
          "output_type": "stream",
          "name": "stdout",
          "text": [
            "0      33.939110\n",
            "1      41.153300\n",
            "2      28.033900\n",
            "3      42.506300\n",
            "4     -11.202700\n",
            "         ...    \n",
            "280    31.952200\n",
            "281    39.904200\n",
            "282    15.552727\n",
            "283   -13.133897\n",
            "284   -19.015438\n",
            "Name: Lat, Length: 285, dtype: float64\n"
          ]
        }
      ]
    },
    {
      "cell_type": "code",
      "source": [
        "#select the Lat and Country/Region columns:\n",
        "columns=data[['Country/Region','Lat']]\n",
        "print(columns)\n",
        "print(columns.head()) #first five values."
      ],
      "metadata": {
        "colab": {
          "base_uri": "https://localhost:8080/"
        },
        "id": "Za8cL3m-HVlk",
        "outputId": "21c7462b-6658-4d96-fda0-80815d42e473"
      },
      "execution_count": 6,
      "outputs": [
        {
          "output_type": "stream",
          "name": "stdout",
          "text": [
            "           Country/Region        Lat\n",
            "0             Afghanistan  33.939110\n",
            "1                 Albania  41.153300\n",
            "2                 Algeria  28.033900\n",
            "3                 Andorra  42.506300\n",
            "4                  Angola -11.202700\n",
            "..                    ...        ...\n",
            "280    West Bank and Gaza  31.952200\n",
            "281  Winter Olympics 2022  39.904200\n",
            "282                 Yemen  15.552727\n",
            "283                Zambia -13.133897\n",
            "284              Zimbabwe -19.015438\n",
            "\n",
            "[285 rows x 2 columns]\n",
            "  Country/Region       Lat\n",
            "0    Afghanistan  33.93911\n",
            "1        Albania  41.15330\n",
            "2        Algeria  28.03390\n",
            "3        Andorra  42.50630\n",
            "4         Angola -11.20270\n"
          ]
        }
      ]
    },
    {
      "cell_type": "code",
      "source": [
        "#filter for rows where Lat is greater than 10;\n",
        "Lat_10=data[data['Lat']>10]\n",
        "print(Lat_10) #it will print the values of Lat column which are greater than 10\n",
        "print(data['Lat']>10)   #it will only tells us about True and False"
      ],
      "metadata": {
        "colab": {
          "base_uri": "https://localhost:8080/"
        },
        "id": "jB5YkbpWIlz8",
        "outputId": "ae18f63e-175a-436f-9e5a-151b72e28655"
      },
      "execution_count": 9,
      "outputs": [
        {
          "output_type": "stream",
          "name": "stdout",
          "text": [
            "    Province/State        Country/Region        Lat        Long  1/22/20  \\\n",
            "0              NaN           Afghanistan  33.939110   67.709953        0   \n",
            "1              NaN               Albania  41.153300   20.168300        0   \n",
            "2              NaN               Algeria  28.033900    1.659600        0   \n",
            "3              NaN               Andorra  42.506300    1.521800        0   \n",
            "6              NaN   Antigua and Barbuda  17.060800  -61.796400        0   \n",
            "..             ...                   ...        ...         ...      ...   \n",
            "276            NaN            Uzbekistan  41.377491   64.585262        0   \n",
            "279            NaN               Vietnam  14.058324  108.277199        0   \n",
            "280            NaN    West Bank and Gaza  31.952200   35.233200        0   \n",
            "281            NaN  Winter Olympics 2022  39.904200  116.407400        0   \n",
            "282            NaN                 Yemen  15.552727   48.516388        0   \n",
            "\n",
            "     1/23/20  1/24/20  1/25/20  1/26/20  1/27/20  ...   5/22/22   5/23/22  \\\n",
            "0          0        0        0        0        0  ...    179716    179716   \n",
            "1          0        0        0        0        0  ...    275864    275881   \n",
            "2          0        0        0        0        0  ...    265854    265855   \n",
            "3          0        0        0        0        0  ...     42572     42572   \n",
            "6          0        0        0        0        0  ...      7942      7982   \n",
            "..       ...      ...      ...      ...      ...  ...       ...       ...   \n",
            "276        0        0        0        0        0  ...    238929    238940   \n",
            "279        2        2        2        2        2  ...  10708887  10710066   \n",
            "280        0        0        0        0        0  ...    657456    657573   \n",
            "281        0        0        0        0        0  ...       535       535   \n",
            "282        0        0        0        0        0  ...     11819     11819   \n",
            "\n",
            "      5/24/22   5/25/22   5/26/22   5/27/22   5/28/22   5/29/22   5/30/22  \\\n",
            "0      179771    179835    179835    180086    180122    180174    180259   \n",
            "1      275939    275985    276012    276048    276081    276101    276101   \n",
            "2      265860    265862    265864    265870    265873    265873    265877   \n",
            "3       42572     42894     42894     42894     42894     42894     42894   \n",
            "6        7982      8062      8119      8119      8119      8119      8163   \n",
            "..        ...       ...       ...       ...       ...       ...       ...   \n",
            "276    238945    238964    238975    238983    238983    238983    239025   \n",
            "279  10711389  10712733  10714008  10715247  10716361  10717251  10718369   \n",
            "280    657573    657573    657573    657573    657573    657573    657573   \n",
            "281       535       535       535       535       535       535       535   \n",
            "282     11819     11819     11819     11819     11819     11819     11822   \n",
            "\n",
            "      5/31/22  \n",
            "0      180347  \n",
            "1      276101  \n",
            "2      265884  \n",
            "3       42894  \n",
            "6        8253  \n",
            "..        ...  \n",
            "276    239028  \n",
            "279  10719379  \n",
            "280    657705  \n",
            "281       535  \n",
            "282     11822  \n",
            "\n",
            "[192 rows x 865 columns]\n",
            "0       True\n",
            "1       True\n",
            "2       True\n",
            "3       True\n",
            "4      False\n",
            "       ...  \n",
            "280     True\n",
            "281     True\n",
            "282     True\n",
            "283    False\n",
            "284    False\n",
            "Name: Lat, Length: 285, dtype: bool\n"
          ]
        }
      ]
    },
    {
      "cell_type": "code",
      "source": [
        "Canada_State=data[data['Country/Region']=='Canada']\n",
        "print(Canada_State)"
      ],
      "metadata": {
        "colab": {
          "base_uri": "https://localhost:8080/"
        },
        "id": "LP4Kc0jlKnz9",
        "outputId": "a8d529c7-c018-4617-ce6c-4b328052f649"
      },
      "execution_count": 11,
      "outputs": [
        {
          "output_type": "stream",
          "name": "stdout",
          "text": [
            "               Province/State Country/Region      Lat      Long  1/22/20  \\\n",
            "40                    Alberta         Canada  53.9333 -116.5765        0   \n",
            "41           British Columbia         Canada  53.7267 -127.6476        0   \n",
            "42           Diamond Princess         Canada   0.0000    0.0000        0   \n",
            "43             Grand Princess         Canada   0.0000    0.0000        0   \n",
            "44                   Manitoba         Canada  53.7609  -98.8139        0   \n",
            "45              New Brunswick         Canada  46.5653  -66.4619        0   \n",
            "46  Newfoundland and Labrador         Canada  53.1355  -57.6604        0   \n",
            "47      Northwest Territories         Canada  64.8255 -124.8457        0   \n",
            "48                Nova Scotia         Canada  44.6820  -63.7443        0   \n",
            "49                    Nunavut         Canada  70.2998  -83.1076        0   \n",
            "50                    Ontario         Canada  51.2538  -85.3232        0   \n",
            "51       Prince Edward Island         Canada  46.5107  -63.4168        0   \n",
            "52                     Quebec         Canada  52.9399  -73.5491        0   \n",
            "53     Repatriated Travellers         Canada      NaN       NaN        0   \n",
            "54               Saskatchewan         Canada  52.9399 -106.4509        0   \n",
            "55                      Yukon         Canada  64.2823 -135.0000        0   \n",
            "\n",
            "    1/23/20  1/24/20  1/25/20  1/26/20  1/27/20  ...  5/22/22  5/23/22  \\\n",
            "40        0        0        0        0        0  ...   578291   578291   \n",
            "41        0        0        0        0        0  ...   369202   369202   \n",
            "42        0        0        0        0        0  ...        0        0   \n",
            "43        0        0        0        0        0  ...       13       13   \n",
            "44        0        0        0        0        0  ...   143603   143603   \n",
            "45        0        0        0        0        0  ...    64490    64490   \n",
            "46        0        0        0        0        0  ...    45409    45409   \n",
            "47        0        0        0        0        0  ...    12026    12026   \n",
            "48        0        0        0        0        0  ...    94893    94893   \n",
            "49        0        0        0        0        0  ...     3531     3531   \n",
            "50        2        3        3        3        3  ...  1311036  1311036   \n",
            "51        0        0        0        0        0  ...    37124    37124   \n",
            "52        0        0        0        0        0  ...  1061706  1062032   \n",
            "53        0        0        0        0        0  ...       13       13   \n",
            "54        0        0        0        0        0  ...   137967   137967   \n",
            "55        0        0        0        0        0  ...     4349     4349   \n",
            "\n",
            "    5/24/22  5/25/22  5/26/22  5/27/22  5/28/22  5/29/22  5/30/22  5/31/22  \n",
            "40   578291   580881   580881   580881   580881   580881   580881   580881  \n",
            "41   369202   369202   370559   370559   370559   370559   370559   370559  \n",
            "42        0        0        0        0        0        0        0        0  \n",
            "43       13       13       13       13       13       13       13       13  \n",
            "44   143603   143603   144140   144140   144140   144140   144140   144140  \n",
            "45    64490    65258    65258    65258    65258    65258    65258    65258  \n",
            "46    45409    45409    45775    45775    45775    45775    45775    45775  \n",
            "47    12046    12046    12046    12046    12046    12046    12089    12089  \n",
            "48    94893    94893    94893    96477    96477    96477    96477    96477  \n",
            "49     3531     3531     3531     3531     3531     3531     3531     3531  \n",
            "50  1312206  1312810  1313628  1316340  1316953  1317509  1318044  1319553  \n",
            "51    37578    37578    37578    37578    37578    37578    37578    37578  \n",
            "52  1062449  1063033  1063738  1064328  1064905  1065329  1065679  1066195  \n",
            "53       13       13       13       13       13       13       13       13  \n",
            "54   137967   137967   137967   138343   138343   138343   138343   138343  \n",
            "55     4363     4366     4370     4378     4378     4378     4386     4387  \n",
            "\n",
            "[16 rows x 865 columns]\n"
          ]
        }
      ]
    },
    {
      "cell_type": "code",
      "source": [
        "data['sum']=data['Lat']+data['Long']\n",
        "print(data.head())"
      ],
      "metadata": {
        "colab": {
          "base_uri": "https://localhost:8080/"
        },
        "id": "iVkhdWRWLP_u",
        "outputId": "1f219342-271c-4b1e-c93d-87fac4583355"
      },
      "execution_count": 15,
      "outputs": [
        {
          "output_type": "stream",
          "name": "stdout",
          "text": [
            "  Province/State Country/Region       Lat       Long  1/22/20  1/23/20  \\\n",
            "0            NaN    Afghanistan  33.93911  67.709953        0        0   \n",
            "1            NaN        Albania  41.15330  20.168300        0        0   \n",
            "2            NaN        Algeria  28.03390   1.659600        0        0   \n",
            "3            NaN        Andorra  42.50630   1.521800        0        0   \n",
            "4            NaN         Angola -11.20270  17.873900        0        0   \n",
            "\n",
            "   1/24/20  1/25/20  1/26/20  1/27/20  ...  5/23/22  5/24/22  5/25/22  \\\n",
            "0        0        0        0        0  ...   179716   179771   179835   \n",
            "1        0        0        0        0  ...   275881   275939   275985   \n",
            "2        0        0        0        0  ...   265855   265860   265862   \n",
            "3        0        0        0        0  ...    42572    42572    42894   \n",
            "4        0        0        0        0  ...    99287    99433    99527   \n",
            "\n",
            "   5/26/22  5/27/22  5/28/22  5/29/22  5/30/22  5/31/22         sum  \n",
            "0   179835   180086   180122   180174   180259   180347  101.649063  \n",
            "1   276012   276048   276081   276101   276101   276101   61.321600  \n",
            "2   265864   265870   265873   265873   265877   265884   29.693500  \n",
            "3    42894    42894    42894    42894    42894    42894   44.028100  \n",
            "4    99527    99527    99527    99527    99761    99761    6.671200  \n",
            "\n",
            "[5 rows x 866 columns]\n"
          ]
        }
      ]
    },
    {
      "cell_type": "code",
      "source": [
        "data[['Lat','Long']].median()  #median of multiple columns"
      ],
      "metadata": {
        "colab": {
          "base_uri": "https://localhost:8080/"
        },
        "id": "KycozegaMsR2",
        "outputId": "095852ef-cebf-45dc-e509-f8d53a2ea2d6"
      },
      "execution_count": 17,
      "outputs": [
        {
          "output_type": "execute_result",
          "data": {
            "text/plain": [
              "Lat     21.6940\n",
              "Long    20.9394\n",
              "dtype: float64"
            ]
          },
          "metadata": {},
          "execution_count": 17
        }
      ]
    },
    {
      "cell_type": "code",
      "source": [
        "data[['Lat','Long']].describe()"
      ],
      "metadata": {
        "colab": {
          "base_uri": "https://localhost:8080/",
          "height": 300
        },
        "id": "x0bJQzACMzCc",
        "outputId": "befcb637-a1c0-4d35-c1d4-d64c245eabdf"
      },
      "execution_count": 20,
      "outputs": [
        {
          "output_type": "execute_result",
          "data": {
            "text/plain": [
              "              Lat        Long\n",
              "count  283.000000  283.000000\n",
              "mean    20.177865   22.331691\n",
              "std     25.823619   76.018064\n",
              "min    -71.949900 -178.116500\n",
              "25%      4.715658  -21.031300\n",
              "50%     21.694000   20.939400\n",
              "75%     40.788284   86.666250\n",
              "max     71.706900  178.065000"
            ],
            "text/html": [
              "\n",
              "  <div id=\"df-2308dff4-577e-465e-b76f-c1c24acc5aa3\">\n",
              "    <div class=\"colab-df-container\">\n",
              "      <div>\n",
              "<style scoped>\n",
              "    .dataframe tbody tr th:only-of-type {\n",
              "        vertical-align: middle;\n",
              "    }\n",
              "\n",
              "    .dataframe tbody tr th {\n",
              "        vertical-align: top;\n",
              "    }\n",
              "\n",
              "    .dataframe thead th {\n",
              "        text-align: right;\n",
              "    }\n",
              "</style>\n",
              "<table border=\"1\" class=\"dataframe\">\n",
              "  <thead>\n",
              "    <tr style=\"text-align: right;\">\n",
              "      <th></th>\n",
              "      <th>Lat</th>\n",
              "      <th>Long</th>\n",
              "    </tr>\n",
              "  </thead>\n",
              "  <tbody>\n",
              "    <tr>\n",
              "      <th>count</th>\n",
              "      <td>283.000000</td>\n",
              "      <td>283.000000</td>\n",
              "    </tr>\n",
              "    <tr>\n",
              "      <th>mean</th>\n",
              "      <td>20.177865</td>\n",
              "      <td>22.331691</td>\n",
              "    </tr>\n",
              "    <tr>\n",
              "      <th>std</th>\n",
              "      <td>25.823619</td>\n",
              "      <td>76.018064</td>\n",
              "    </tr>\n",
              "    <tr>\n",
              "      <th>min</th>\n",
              "      <td>-71.949900</td>\n",
              "      <td>-178.116500</td>\n",
              "    </tr>\n",
              "    <tr>\n",
              "      <th>25%</th>\n",
              "      <td>4.715658</td>\n",
              "      <td>-21.031300</td>\n",
              "    </tr>\n",
              "    <tr>\n",
              "      <th>50%</th>\n",
              "      <td>21.694000</td>\n",
              "      <td>20.939400</td>\n",
              "    </tr>\n",
              "    <tr>\n",
              "      <th>75%</th>\n",
              "      <td>40.788284</td>\n",
              "      <td>86.666250</td>\n",
              "    </tr>\n",
              "    <tr>\n",
              "      <th>max</th>\n",
              "      <td>71.706900</td>\n",
              "      <td>178.065000</td>\n",
              "    </tr>\n",
              "  </tbody>\n",
              "</table>\n",
              "</div>\n",
              "      <button class=\"colab-df-convert\" onclick=\"convertToInteractive('df-2308dff4-577e-465e-b76f-c1c24acc5aa3')\"\n",
              "              title=\"Convert this dataframe to an interactive table.\"\n",
              "              style=\"display:none;\">\n",
              "        \n",
              "  <svg xmlns=\"http://www.w3.org/2000/svg\" height=\"24px\"viewBox=\"0 0 24 24\"\n",
              "       width=\"24px\">\n",
              "    <path d=\"M0 0h24v24H0V0z\" fill=\"none\"/>\n",
              "    <path d=\"M18.56 5.44l.94 2.06.94-2.06 2.06-.94-2.06-.94-.94-2.06-.94 2.06-2.06.94zm-11 1L8.5 8.5l.94-2.06 2.06-.94-2.06-.94L8.5 2.5l-.94 2.06-2.06.94zm10 10l.94 2.06.94-2.06 2.06-.94-2.06-.94-.94-2.06-.94 2.06-2.06.94z\"/><path d=\"M17.41 7.96l-1.37-1.37c-.4-.4-.92-.59-1.43-.59-.52 0-1.04.2-1.43.59L10.3 9.45l-7.72 7.72c-.78.78-.78 2.05 0 2.83L4 21.41c.39.39.9.59 1.41.59.51 0 1.02-.2 1.41-.59l7.78-7.78 2.81-2.81c.8-.78.8-2.07 0-2.86zM5.41 20L4 18.59l7.72-7.72 1.47 1.35L5.41 20z\"/>\n",
              "  </svg>\n",
              "      </button>\n",
              "      \n",
              "  <style>\n",
              "    .colab-df-container {\n",
              "      display:flex;\n",
              "      flex-wrap:wrap;\n",
              "      gap: 12px;\n",
              "    }\n",
              "\n",
              "    .colab-df-convert {\n",
              "      background-color: #E8F0FE;\n",
              "      border: none;\n",
              "      border-radius: 50%;\n",
              "      cursor: pointer;\n",
              "      display: none;\n",
              "      fill: #1967D2;\n",
              "      height: 32px;\n",
              "      padding: 0 0 0 0;\n",
              "      width: 32px;\n",
              "    }\n",
              "\n",
              "    .colab-df-convert:hover {\n",
              "      background-color: #E2EBFA;\n",
              "      box-shadow: 0px 1px 2px rgba(60, 64, 67, 0.3), 0px 1px 3px 1px rgba(60, 64, 67, 0.15);\n",
              "      fill: #174EA6;\n",
              "    }\n",
              "\n",
              "    [theme=dark] .colab-df-convert {\n",
              "      background-color: #3B4455;\n",
              "      fill: #D2E3FC;\n",
              "    }\n",
              "\n",
              "    [theme=dark] .colab-df-convert:hover {\n",
              "      background-color: #434B5C;\n",
              "      box-shadow: 0px 1px 3px 1px rgba(0, 0, 0, 0.15);\n",
              "      filter: drop-shadow(0px 1px 2px rgba(0, 0, 0, 0.3));\n",
              "      fill: #FFFFFF;\n",
              "    }\n",
              "  </style>\n",
              "\n",
              "      <script>\n",
              "        const buttonEl =\n",
              "          document.querySelector('#df-2308dff4-577e-465e-b76f-c1c24acc5aa3 button.colab-df-convert');\n",
              "        buttonEl.style.display =\n",
              "          google.colab.kernel.accessAllowed ? 'block' : 'none';\n",
              "\n",
              "        async function convertToInteractive(key) {\n",
              "          const element = document.querySelector('#df-2308dff4-577e-465e-b76f-c1c24acc5aa3');\n",
              "          const dataTable =\n",
              "            await google.colab.kernel.invokeFunction('convertToInteractive',\n",
              "                                                     [key], {});\n",
              "          if (!dataTable) return;\n",
              "\n",
              "          const docLinkHtml = 'Like what you see? Visit the ' +\n",
              "            '<a target=\"_blank\" href=https://colab.research.google.com/notebooks/data_table.ipynb>data table notebook</a>'\n",
              "            + ' to learn more about interactive tables.';\n",
              "          element.innerHTML = '';\n",
              "          dataTable['output_type'] = 'display_data';\n",
              "          await google.colab.output.renderOutput(dataTable, element);\n",
              "          const docLink = document.createElement('div');\n",
              "          docLink.innerHTML = docLinkHtml;\n",
              "          element.appendChild(docLink);\n",
              "        }\n",
              "      </script>\n",
              "    </div>\n",
              "  </div>\n",
              "  "
            ]
          },
          "metadata": {},
          "execution_count": 20
        }
      ]
    },
    {
      "cell_type": "code",
      "source": [
        "data[['Lat','Long']].agg(['count','mean','std'])  #it is super-efficient"
      ],
      "metadata": {
        "colab": {
          "base_uri": "https://localhost:8080/",
          "height": 143
        },
        "id": "I2ANEIrZNTIS",
        "outputId": "2051d5cb-a577-4785-b98f-af4dbff067a4"
      },
      "execution_count": 22,
      "outputs": [
        {
          "output_type": "execute_result",
          "data": {
            "text/plain": [
              "              Lat        Long\n",
              "count  283.000000  283.000000\n",
              "mean    20.177865   22.331691\n",
              "std     25.823619   76.018064"
            ],
            "text/html": [
              "\n",
              "  <div id=\"df-e1aaec16-2797-4540-91c5-7d8eca349958\">\n",
              "    <div class=\"colab-df-container\">\n",
              "      <div>\n",
              "<style scoped>\n",
              "    .dataframe tbody tr th:only-of-type {\n",
              "        vertical-align: middle;\n",
              "    }\n",
              "\n",
              "    .dataframe tbody tr th {\n",
              "        vertical-align: top;\n",
              "    }\n",
              "\n",
              "    .dataframe thead th {\n",
              "        text-align: right;\n",
              "    }\n",
              "</style>\n",
              "<table border=\"1\" class=\"dataframe\">\n",
              "  <thead>\n",
              "    <tr style=\"text-align: right;\">\n",
              "      <th></th>\n",
              "      <th>Lat</th>\n",
              "      <th>Long</th>\n",
              "    </tr>\n",
              "  </thead>\n",
              "  <tbody>\n",
              "    <tr>\n",
              "      <th>count</th>\n",
              "      <td>283.000000</td>\n",
              "      <td>283.000000</td>\n",
              "    </tr>\n",
              "    <tr>\n",
              "      <th>mean</th>\n",
              "      <td>20.177865</td>\n",
              "      <td>22.331691</td>\n",
              "    </tr>\n",
              "    <tr>\n",
              "      <th>std</th>\n",
              "      <td>25.823619</td>\n",
              "      <td>76.018064</td>\n",
              "    </tr>\n",
              "  </tbody>\n",
              "</table>\n",
              "</div>\n",
              "      <button class=\"colab-df-convert\" onclick=\"convertToInteractive('df-e1aaec16-2797-4540-91c5-7d8eca349958')\"\n",
              "              title=\"Convert this dataframe to an interactive table.\"\n",
              "              style=\"display:none;\">\n",
              "        \n",
              "  <svg xmlns=\"http://www.w3.org/2000/svg\" height=\"24px\"viewBox=\"0 0 24 24\"\n",
              "       width=\"24px\">\n",
              "    <path d=\"M0 0h24v24H0V0z\" fill=\"none\"/>\n",
              "    <path d=\"M18.56 5.44l.94 2.06.94-2.06 2.06-.94-2.06-.94-.94-2.06-.94 2.06-2.06.94zm-11 1L8.5 8.5l.94-2.06 2.06-.94-2.06-.94L8.5 2.5l-.94 2.06-2.06.94zm10 10l.94 2.06.94-2.06 2.06-.94-2.06-.94-.94-2.06-.94 2.06-2.06.94z\"/><path d=\"M17.41 7.96l-1.37-1.37c-.4-.4-.92-.59-1.43-.59-.52 0-1.04.2-1.43.59L10.3 9.45l-7.72 7.72c-.78.78-.78 2.05 0 2.83L4 21.41c.39.39.9.59 1.41.59.51 0 1.02-.2 1.41-.59l7.78-7.78 2.81-2.81c.8-.78.8-2.07 0-2.86zM5.41 20L4 18.59l7.72-7.72 1.47 1.35L5.41 20z\"/>\n",
              "  </svg>\n",
              "      </button>\n",
              "      \n",
              "  <style>\n",
              "    .colab-df-container {\n",
              "      display:flex;\n",
              "      flex-wrap:wrap;\n",
              "      gap: 12px;\n",
              "    }\n",
              "\n",
              "    .colab-df-convert {\n",
              "      background-color: #E8F0FE;\n",
              "      border: none;\n",
              "      border-radius: 50%;\n",
              "      cursor: pointer;\n",
              "      display: none;\n",
              "      fill: #1967D2;\n",
              "      height: 32px;\n",
              "      padding: 0 0 0 0;\n",
              "      width: 32px;\n",
              "    }\n",
              "\n",
              "    .colab-df-convert:hover {\n",
              "      background-color: #E2EBFA;\n",
              "      box-shadow: 0px 1px 2px rgba(60, 64, 67, 0.3), 0px 1px 3px 1px rgba(60, 64, 67, 0.15);\n",
              "      fill: #174EA6;\n",
              "    }\n",
              "\n",
              "    [theme=dark] .colab-df-convert {\n",
              "      background-color: #3B4455;\n",
              "      fill: #D2E3FC;\n",
              "    }\n",
              "\n",
              "    [theme=dark] .colab-df-convert:hover {\n",
              "      background-color: #434B5C;\n",
              "      box-shadow: 0px 1px 3px 1px rgba(0, 0, 0, 0.15);\n",
              "      filter: drop-shadow(0px 1px 2px rgba(0, 0, 0, 0.3));\n",
              "      fill: #FFFFFF;\n",
              "    }\n",
              "  </style>\n",
              "\n",
              "      <script>\n",
              "        const buttonEl =\n",
              "          document.querySelector('#df-e1aaec16-2797-4540-91c5-7d8eca349958 button.colab-df-convert');\n",
              "        buttonEl.style.display =\n",
              "          google.colab.kernel.accessAllowed ? 'block' : 'none';\n",
              "\n",
              "        async function convertToInteractive(key) {\n",
              "          const element = document.querySelector('#df-e1aaec16-2797-4540-91c5-7d8eca349958');\n",
              "          const dataTable =\n",
              "            await google.colab.kernel.invokeFunction('convertToInteractive',\n",
              "                                                     [key], {});\n",
              "          if (!dataTable) return;\n",
              "\n",
              "          const docLinkHtml = 'Like what you see? Visit the ' +\n",
              "            '<a target=\"_blank\" href=https://colab.research.google.com/notebooks/data_table.ipynb>data table notebook</a>'\n",
              "            + ' to learn more about interactive tables.';\n",
              "          element.innerHTML = '';\n",
              "          dataTable['output_type'] = 'display_data';\n",
              "          await google.colab.output.renderOutput(dataTable, element);\n",
              "          const docLink = document.createElement('div');\n",
              "          docLink.innerHTML = docLinkHtml;\n",
              "          element.appendChild(docLink);\n",
              "        }\n",
              "      </script>\n",
              "    </div>\n",
              "  </div>\n",
              "  "
            ]
          },
          "metadata": {},
          "execution_count": 22
        }
      ]
    }
  ]
}